{
 "cells": [
  {
   "cell_type": "code",
   "execution_count": 1,
   "metadata": {},
   "outputs": [],
   "source": [
    "%matplotlib inline\n",
    "import numpy as np\n",
    "import pandas as pd\n",
    "import matplotlib.pyplot as plt\n",
    "plt.style.use('ggplot')"
   ]
  },
  {
   "cell_type": "code",
   "execution_count": 2,
   "metadata": {},
   "outputs": [],
   "source": [
    "data = pd.read_excel('DataSet_JPCLett.xlsx')"
   ]
  },
  {
   "cell_type": "code",
   "execution_count": 3,
   "metadata": {},
   "outputs": [
    {
     "data": {
      "text/plain": [
       "(1203, 16)"
      ]
     },
     "execution_count": 3,
     "metadata": {},
     "output_type": "execute_result"
    }
   ],
   "source": [
    "data.shape"
   ]
  },
  {
   "cell_type": "code",
   "execution_count": 4,
   "metadata": {},
   "outputs": [
    {
     "data": {
      "text/html": [
       "<div>\n",
       "<style scoped>\n",
       "    .dataframe tbody tr th:only-of-type {\n",
       "        vertical-align: middle;\n",
       "    }\n",
       "\n",
       "    .dataframe tbody tr th {\n",
       "        vertical-align: top;\n",
       "    }\n",
       "\n",
       "    .dataframe thead th {\n",
       "        text-align: right;\n",
       "    }\n",
       "</style>\n",
       "<table border=\"1\" class=\"dataframe\">\n",
       "  <thead>\n",
       "    <tr style=\"text-align: right;\">\n",
       "      <th></th>\n",
       "      <th>ID No.</th>\n",
       "      <th>Nickname</th>\n",
       "      <th>Ref. No</th>\n",
       "      <th>PCE_max(%)</th>\n",
       "      <th>PCE_ave(%)</th>\n",
       "      <th>Voc (V)</th>\n",
       "      <th>Jsc (mA cm^2)</th>\n",
       "      <th>FF</th>\n",
       "      <th>Mw (kg mol^-1)</th>\n",
       "      <th>Mn (kg mol^-1)</th>\n",
       "      <th>PDI (=Mw/Mn)</th>\n",
       "      <th>Monomer (g mol^-1)</th>\n",
       "      <th>HOMO (eV)</th>\n",
       "      <th>LUMO (eV)</th>\n",
       "      <th>bandgap(eV)</th>\n",
       "      <th>SMILES</th>\n",
       "    </tr>\n",
       "  </thead>\n",
       "  <tbody>\n",
       "    <tr>\n",
       "      <th>0</th>\n",
       "      <td>1</td>\n",
       "      <td>PBTTT-C14</td>\n",
       "      <td>S1</td>\n",
       "      <td>2.34</td>\n",
       "      <td>2.34</td>\n",
       "      <td>0.53</td>\n",
       "      <td>9.37</td>\n",
       "      <td>0.48</td>\n",
       "      <td>46.2</td>\n",
       "      <td>22</td>\n",
       "      <td>2.1</td>\n",
       "      <td>724</td>\n",
       "      <td>5.10</td>\n",
       "      <td>3.10</td>\n",
       "      <td>1.88</td>\n",
       "      <td>CC1=CC(CCCCCCCCCCCCCC)=C(C2=CC3=C(S2)C=C(C4=C(...</td>\n",
       "    </tr>\n",
       "    <tr>\n",
       "      <th>1</th>\n",
       "      <td>2</td>\n",
       "      <td>PCDTBT</td>\n",
       "      <td>S2</td>\n",
       "      <td>3.60</td>\n",
       "      <td>3.60</td>\n",
       "      <td>0.89</td>\n",
       "      <td>6.92</td>\n",
       "      <td>0.63</td>\n",
       "      <td>73.0</td>\n",
       "      <td>37</td>\n",
       "      <td>1.97</td>\n",
       "      <td>731</td>\n",
       "      <td>5.50</td>\n",
       "      <td>3.60</td>\n",
       "      <td>1.88</td>\n",
       "      <td>CC1=CC(N(C(CCCCCCCC)CCCCCCCC)C2=C3C=CC(C4=CC=C...</td>\n",
       "    </tr>\n",
       "    <tr>\n",
       "      <th>2</th>\n",
       "      <td>3</td>\n",
       "      <td>PCPDTBT</td>\n",
       "      <td>S3</td>\n",
       "      <td>5.12</td>\n",
       "      <td>5.12</td>\n",
       "      <td>0.61</td>\n",
       "      <td>15.73</td>\n",
       "      <td>0.53</td>\n",
       "      <td>47.6</td>\n",
       "      <td>26.6</td>\n",
       "      <td>1.79</td>\n",
       "      <td>564</td>\n",
       "      <td>5.30</td>\n",
       "      <td>3.55</td>\n",
       "      <td>1.43</td>\n",
       "      <td>CC1=CC(C(CC(CCCC)CC)(CC(CCCC)CC)C2=C3SC(C4=CC=...</td>\n",
       "    </tr>\n",
       "    <tr>\n",
       "      <th>3</th>\n",
       "      <td>4</td>\n",
       "      <td>PffBT4T-2OD</td>\n",
       "      <td>S4</td>\n",
       "      <td>10.50</td>\n",
       "      <td>10.20</td>\n",
       "      <td>0.77</td>\n",
       "      <td>18.40</td>\n",
       "      <td>0.74</td>\n",
       "      <td>93.7</td>\n",
       "      <td>47.5</td>\n",
       "      <td>1.97</td>\n",
       "      <td>1089</td>\n",
       "      <td>5.34</td>\n",
       "      <td>3.69</td>\n",
       "      <td>1.65</td>\n",
       "      <td>CC1=C(CC(CCCCCCCC)CCCCCCCCCC)C=C(C2=C(F)C(F)=C...</td>\n",
       "    </tr>\n",
       "    <tr>\n",
       "      <th>4</th>\n",
       "      <td>5</td>\n",
       "      <td>PffBT4T-2OD</td>\n",
       "      <td>S4</td>\n",
       "      <td>10.40</td>\n",
       "      <td>10.00</td>\n",
       "      <td>0.77</td>\n",
       "      <td>18.20</td>\n",
       "      <td>0.74</td>\n",
       "      <td>52.9</td>\n",
       "      <td>28.2</td>\n",
       "      <td>1.88</td>\n",
       "      <td>1089</td>\n",
       "      <td>5.20</td>\n",
       "      <td>3.57</td>\n",
       "      <td>1.63</td>\n",
       "      <td>CC1=C(CC(CCCCCCCC)CCCCCCCCCC)C=C(C2=CC=C(C3=CC...</td>\n",
       "    </tr>\n",
       "  </tbody>\n",
       "</table>\n",
       "</div>"
      ],
      "text/plain": [
       "   ID No.     Nickname Ref. No  PCE_max(%)  PCE_ave(%)  Voc (V)  \\\n",
       "0       1    PBTTT-C14      S1        2.34        2.34     0.53   \n",
       "1       2       PCDTBT      S2        3.60        3.60     0.89   \n",
       "2       3      PCPDTBT      S3        5.12        5.12     0.61   \n",
       "3       4  PffBT4T-2OD      S4       10.50       10.20     0.77   \n",
       "4       5  PffBT4T-2OD      S4       10.40       10.00     0.77   \n",
       "\n",
       "   Jsc (mA cm^2)    FF  Mw (kg mol^-1) Mn (kg mol^-1) PDI (=Mw/Mn)  \\\n",
       "0           9.37  0.48            46.2             22          2.1   \n",
       "1           6.92  0.63            73.0             37         1.97   \n",
       "2          15.73  0.53            47.6           26.6         1.79   \n",
       "3          18.40  0.74            93.7           47.5         1.97   \n",
       "4          18.20  0.74            52.9           28.2         1.88   \n",
       "\n",
       "   Monomer (g mol^-1)  HOMO (eV)  LUMO (eV)  bandgap(eV)  \\\n",
       "0                 724       5.10       3.10         1.88   \n",
       "1                 731       5.50       3.60         1.88   \n",
       "2                 564       5.30       3.55         1.43   \n",
       "3                1089       5.34       3.69         1.65   \n",
       "4                1089       5.20       3.57         1.63   \n",
       "\n",
       "                                              SMILES  \n",
       "0  CC1=CC(CCCCCCCCCCCCCC)=C(C2=CC3=C(S2)C=C(C4=C(...  \n",
       "1  CC1=CC(N(C(CCCCCCCC)CCCCCCCC)C2=C3C=CC(C4=CC=C...  \n",
       "2  CC1=CC(C(CC(CCCC)CC)(CC(CCCC)CC)C2=C3SC(C4=CC=...  \n",
       "3  CC1=C(CC(CCCCCCCC)CCCCCCCCCC)C=C(C2=C(F)C(F)=C...  \n",
       "4  CC1=C(CC(CCCCCCCC)CCCCCCCCCC)C=C(C2=CC=C(C3=CC...  "
      ]
     },
     "execution_count": 4,
     "metadata": {},
     "output_type": "execute_result"
    }
   ],
   "source": [
    "data.head()"
   ]
  },
  {
   "cell_type": "code",
   "execution_count": 5,
   "metadata": {},
   "outputs": [
    {
     "data": {
      "text/html": [
       "<div>\n",
       "<style scoped>\n",
       "    .dataframe tbody tr th:only-of-type {\n",
       "        vertical-align: middle;\n",
       "    }\n",
       "\n",
       "    .dataframe tbody tr th {\n",
       "        vertical-align: top;\n",
       "    }\n",
       "\n",
       "    .dataframe thead th {\n",
       "        text-align: right;\n",
       "    }\n",
       "</style>\n",
       "<table border=\"1\" class=\"dataframe\">\n",
       "  <thead>\n",
       "    <tr style=\"text-align: right;\">\n",
       "      <th></th>\n",
       "      <th>ID No.</th>\n",
       "      <th>PCE_max(%)</th>\n",
       "      <th>PCE_ave(%)</th>\n",
       "      <th>Voc (V)</th>\n",
       "      <th>Jsc (mA cm^2)</th>\n",
       "      <th>FF</th>\n",
       "      <th>Mw (kg mol^-1)</th>\n",
       "      <th>Monomer (g mol^-1)</th>\n",
       "      <th>HOMO (eV)</th>\n",
       "      <th>LUMO (eV)</th>\n",
       "      <th>bandgap(eV)</th>\n",
       "    </tr>\n",
       "  </thead>\n",
       "  <tbody>\n",
       "    <tr>\n",
       "      <th>count</th>\n",
       "      <td>1203.000000</td>\n",
       "      <td>1203.000000</td>\n",
       "      <td>1203.000000</td>\n",
       "      <td>1203.000000</td>\n",
       "      <td>1203.000000</td>\n",
       "      <td>1203.000000</td>\n",
       "      <td>1203.000000</td>\n",
       "      <td>1203.000000</td>\n",
       "      <td>1203.000000</td>\n",
       "      <td>1203.000000</td>\n",
       "      <td>1203.000000</td>\n",
       "    </tr>\n",
       "    <tr>\n",
       "      <th>mean</th>\n",
       "      <td>602.000000</td>\n",
       "      <td>4.281588</td>\n",
       "      <td>4.220274</td>\n",
       "      <td>0.784997</td>\n",
       "      <td>9.236184</td>\n",
       "      <td>0.553442</td>\n",
       "      <td>89.966667</td>\n",
       "      <td>1125.375727</td>\n",
       "      <td>5.333392</td>\n",
       "      <td>3.507963</td>\n",
       "      <td>1.715852</td>\n",
       "    </tr>\n",
       "    <tr>\n",
       "      <th>std</th>\n",
       "      <td>347.420495</td>\n",
       "      <td>2.380189</td>\n",
       "      <td>2.342145</td>\n",
       "      <td>0.135218</td>\n",
       "      <td>4.064283</td>\n",
       "      <td>0.110888</td>\n",
       "      <td>139.374934</td>\n",
       "      <td>324.376769</td>\n",
       "      <td>0.220354</td>\n",
       "      <td>0.301048</td>\n",
       "      <td>0.205300</td>\n",
       "    </tr>\n",
       "    <tr>\n",
       "      <th>min</th>\n",
       "      <td>1.000000</td>\n",
       "      <td>0.010000</td>\n",
       "      <td>0.010000</td>\n",
       "      <td>0.200000</td>\n",
       "      <td>0.110000</td>\n",
       "      <td>0.250000</td>\n",
       "      <td>3.900000</td>\n",
       "      <td>196.000000</td>\n",
       "      <td>4.240000</td>\n",
       "      <td>2.300000</td>\n",
       "      <td>1.000000</td>\n",
       "    </tr>\n",
       "    <tr>\n",
       "      <th>25%</th>\n",
       "      <td>301.500000</td>\n",
       "      <td>2.415000</td>\n",
       "      <td>2.385000</td>\n",
       "      <td>0.700000</td>\n",
       "      <td>6.325000</td>\n",
       "      <td>0.480000</td>\n",
       "      <td>28.100000</td>\n",
       "      <td>887.500000</td>\n",
       "      <td>5.200000</td>\n",
       "      <td>3.340000</td>\n",
       "      <td>1.590000</td>\n",
       "    </tr>\n",
       "    <tr>\n",
       "      <th>50%</th>\n",
       "      <td>602.000000</td>\n",
       "      <td>4.230000</td>\n",
       "      <td>4.200000</td>\n",
       "      <td>0.800000</td>\n",
       "      <td>9.530000</td>\n",
       "      <td>0.570000</td>\n",
       "      <td>54.800000</td>\n",
       "      <td>1122.000000</td>\n",
       "      <td>5.340000</td>\n",
       "      <td>3.550000</td>\n",
       "      <td>1.710000</td>\n",
       "    </tr>\n",
       "    <tr>\n",
       "      <th>75%</th>\n",
       "      <td>902.500000</td>\n",
       "      <td>6.100000</td>\n",
       "      <td>5.975000</td>\n",
       "      <td>0.880000</td>\n",
       "      <td>12.100000</td>\n",
       "      <td>0.640000</td>\n",
       "      <td>99.450000</td>\n",
       "      <td>1321.000000</td>\n",
       "      <td>5.470000</td>\n",
       "      <td>3.700000</td>\n",
       "      <td>1.830000</td>\n",
       "    </tr>\n",
       "    <tr>\n",
       "      <th>max</th>\n",
       "      <td>1203.000000</td>\n",
       "      <td>10.700000</td>\n",
       "      <td>10.500000</td>\n",
       "      <td>1.090000</td>\n",
       "      <td>23.500000</td>\n",
       "      <td>0.767000</td>\n",
       "      <td>2535.000000</td>\n",
       "      <td>3144.000000</td>\n",
       "      <td>6.180000</td>\n",
       "      <td>4.900000</td>\n",
       "      <td>2.400000</td>\n",
       "    </tr>\n",
       "  </tbody>\n",
       "</table>\n",
       "</div>"
      ],
      "text/plain": [
       "            ID No.   PCE_max(%)   PCE_ave(%)      Voc (V)  Jsc (mA cm^2)  \\\n",
       "count  1203.000000  1203.000000  1203.000000  1203.000000    1203.000000   \n",
       "mean    602.000000     4.281588     4.220274     0.784997       9.236184   \n",
       "std     347.420495     2.380189     2.342145     0.135218       4.064283   \n",
       "min       1.000000     0.010000     0.010000     0.200000       0.110000   \n",
       "25%     301.500000     2.415000     2.385000     0.700000       6.325000   \n",
       "50%     602.000000     4.230000     4.200000     0.800000       9.530000   \n",
       "75%     902.500000     6.100000     5.975000     0.880000      12.100000   \n",
       "max    1203.000000    10.700000    10.500000     1.090000      23.500000   \n",
       "\n",
       "                FF  Mw (kg mol^-1)  Monomer (g mol^-1)    HOMO (eV)  \\\n",
       "count  1203.000000     1203.000000         1203.000000  1203.000000   \n",
       "mean      0.553442       89.966667         1125.375727     5.333392   \n",
       "std       0.110888      139.374934          324.376769     0.220354   \n",
       "min       0.250000        3.900000          196.000000     4.240000   \n",
       "25%       0.480000       28.100000          887.500000     5.200000   \n",
       "50%       0.570000       54.800000         1122.000000     5.340000   \n",
       "75%       0.640000       99.450000         1321.000000     5.470000   \n",
       "max       0.767000     2535.000000         3144.000000     6.180000   \n",
       "\n",
       "         LUMO (eV)  bandgap(eV)  \n",
       "count  1203.000000  1203.000000  \n",
       "mean      3.507963     1.715852  \n",
       "std       0.301048     0.205300  \n",
       "min       2.300000     1.000000  \n",
       "25%       3.340000     1.590000  \n",
       "50%       3.550000     1.710000  \n",
       "75%       3.700000     1.830000  \n",
       "max       4.900000     2.400000  "
      ]
     },
     "execution_count": 5,
     "metadata": {},
     "output_type": "execute_result"
    }
   ],
   "source": [
    "data.describe()"
   ]
  },
  {
   "cell_type": "code",
   "execution_count": 6,
   "metadata": {},
   "outputs": [],
   "source": [
    "from rdkit import Chem, DataStructs\n",
    "from rdkit.Chem import AllChem"
   ]
  },
  {
   "cell_type": "code",
   "execution_count": 7,
   "metadata": {},
   "outputs": [
    {
     "name": "stdout",
     "output_type": "stream",
     "text": [
      "(1203,) <class 'numpy.ndarray'>\n"
     ]
    }
   ],
   "source": [
    "#prepressing data\n",
    "x_data = np.array(data.loc[:,'SMILES'])\n",
    "print(x_data.shape, type(x_data))"
   ]
  },
  {
   "cell_type": "code",
   "execution_count": 8,
   "metadata": {},
   "outputs": [
    {
     "name": "stdout",
     "output_type": "stream",
     "text": [
      "<class 'list'> 1203\n"
     ]
    }
   ],
   "source": [
    "polymers= []\n",
    "for smile in x_data:\n",
    "    m = Chem.MolFromSmiles(smile)\n",
    "    polymers.append(m)\n",
    "    \n",
    "print(type(polymers), len(polymers))"
   ]
  },
  {
   "cell_type": "code",
   "execution_count": null,
   "metadata": {},
   "outputs": [],
   "source": []
  },
  {
   "cell_type": "markdown",
   "metadata": {},
   "source": [
    "## y data processing"
   ]
  },
  {
   "cell_type": "code",
   "execution_count": 9,
   "metadata": {},
   "outputs": [
    {
     "name": "stdout",
     "output_type": "stream",
     "text": [
      "<class 'numpy.ndarray'> (1203,)\n"
     ]
    }
   ],
   "source": [
    "#y_data processing, from the average PCE values\n",
    "y_data = np.array(data.loc[:,'PCE_ave(%)'])\n",
    "y_data_round = np.around(y_data, decimals=2)\n",
    "print(type(y_data_round), y_data_round.shape)"
   ]
  },
  {
   "cell_type": "code",
   "execution_count": null,
   "metadata": {},
   "outputs": [],
   "source": []
  },
  {
   "cell_type": "markdown",
   "metadata": {},
   "source": [
    "### Generate fingerprints: Morgan fingerprint with radius 5\n",
    "### SVM and RF Modelling"
   ]
  },
  {
   "cell_type": "code",
   "execution_count": 10,
   "metadata": {},
   "outputs": [
    {
     "name": "stdout",
     "output_type": "stream",
     "text": [
      "[[1.         0.63150138]\n",
      " [0.63150138 1.        ]]\n"
     ]
    },
    {
     "data": {
      "image/png": "[encoded data removed]",
      "text/plain": [
       "<Figure size 432x288 with 1 Axes>"
      ]
     },
     "metadata": {},
     "output_type": "display_data"
    }
   ],
   "source": [
    "from sklearn.model_selection import train_test_split\n",
    "from sklearn.svm import SVR\n",
    "\n",
    "#Generate polymer fingerprints\n",
    "fps = [AllChem.GetMorganFingerprintAsBitVect(p, 5) for p in polymers]\n",
    "    \n",
    "np_fps = []\n",
    "for fp in fps:\n",
    "    arr = np.zeros((1,))  # create a num array to accept the data\n",
    "    DataStructs.ConvertToNumpyArray(fp, arr)\n",
    "    np_fps.append(arr)    # this will change numpy array to list \n",
    "    \n",
    "x_data = np.array(np_fps) # change list to np array\n",
    "\n",
    "x_train, x_test, y_train, y_test = train_test_split(x_data, y_data_round)\n",
    "   \n",
    "# search for the best C values\n",
    "range_max = 60\n",
    "efficiency = []\n",
    "C_range = list(range(1, range_max, 10))\n",
    "\n",
    "for i in C_range:\n",
    "    model_svm = SVR(C=i, gamma=0.001)\n",
    "    model_svm.fit(x_train, y_train)\n",
    "    test_svm = model_svm.predict(x_test)\n",
    "    result = np.corrcoef(y_test, test_svm)\n",
    "    efficiency.append(result[0,1])\n",
    "\n",
    "eff_np = np.array(efficiency)\n",
    "max_arg = np.argmax(eff_np) \n",
    "best_C = C_range[max_arg]\n",
    "model_svm = SVR(C=best_C, gamma=0.001)\n",
    "model_svm.fit(x_train, y_train)\n",
    "test_svm = model_svm.predict(x_test)\n",
    " \n",
    "plt.scatter(y_test, test_svm)    \n",
    "print(np.corrcoef(y_test, test_svm))"
   ]
  },
  {
   "cell_type": "code",
   "execution_count": null,
   "metadata": {},
   "outputs": [],
   "source": []
  },
  {
   "cell_type": "markdown",
   "metadata": {},
   "source": [
    "# Random Forrest Regression"
   ]
  },
  {
   "cell_type": "code",
   "execution_count": 11,
   "metadata": {},
   "outputs": [
    {
     "data": {
      "text/plain": [
       "array([[1.        , 0.64944292],\n",
       "       [0.64944292, 1.        ]])"
      ]
     },
     "execution_count": 11,
     "metadata": {},
     "output_type": "execute_result"
    },
    {
     "data": {
      "image/png": "[encoded data removed]",
      "text/plain": [
       "<Figure size 432x288 with 1 Axes>"
      ]
     },
     "metadata": {},
     "output_type": "display_data"
    }
   ],
   "source": [
    "from sklearn.ensemble import RandomForestRegressor\n",
    "\n",
    "model_RF = RandomForestRegressor(n_estimators=500)\n",
    "model_RF.fit(x_train, y_train)\n",
    "test_RF = model_RF.predict(x_test)\n",
    "\n",
    "plt.scatter(y_test, test_RF)\n",
    "np.corrcoef(y_test, test_RF)"
   ]
  },
  {
   "cell_type": "code",
   "execution_count": null,
   "metadata": {},
   "outputs": [],
   "source": []
  },
  {
   "cell_type": "markdown",
   "metadata": {},
   "source": [
    "# Average the predictive values from the two models"
   ]
  },
  {
   "cell_type": "code",
   "execution_count": 12,
   "metadata": {},
   "outputs": [],
   "source": [
    "Result_two = test_svm + test_RF\n",
    "Result_two = Result_two/2"
   ]
  },
  {
   "cell_type": "code",
   "execution_count": 13,
   "metadata": {},
   "outputs": [
    {
     "data": {
      "text/plain": [
       "array([[1.        , 0.65666898],\n",
       "       [0.65666898, 1.        ]])"
      ]
     },
     "execution_count": 13,
     "metadata": {},
     "output_type": "execute_result"
    },
    {
     "data": {
      "image/png": "[encoded data removed]",
      "text/plain": [
       "<Figure size 432x288 with 1 Axes>"
      ]
     },
     "metadata": {},
     "output_type": "display_data"
    }
   ],
   "source": [
    "plt.scatter(y_test, Result_two)\n",
    "np.corrcoef(y_test, Result_two)"
   ]
  },
  {
   "cell_type": "code",
   "execution_count": null,
   "metadata": {},
   "outputs": [],
   "source": []
  }
 ],
 "metadata": {
  "kernelspec": {
   "display_name": "Python 3",
   "language": "python",
   "name": "python3"
  },
  "language_info": {
   "codemirror_mode": {
    "name": "ipython",
    "version": 3
   },
   "file_extension": ".py",
   "mimetype": "text/x-python",
   "name": "python",
   "nbconvert_exporter": "python",
   "pygments_lexer": "ipython3",
   "version": "3.6.6"
  }
 },
 "nbformat": 4,
 "nbformat_minor": 2
}
