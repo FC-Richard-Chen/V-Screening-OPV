{
 "cells": [
  {
   "cell_type": "code",
   "execution_count": 1,
   "metadata": {},
   "outputs": [],
   "source": [
    "%matplotlib inline\n",
    "import numpy as np\n",
    "import pandas as pd\n",
    "import matplotlib.pyplot as plt\n",
    "plt.style.use('ggplot')"
   ]
  },
  {
   "cell_type": "code",
   "execution_count": 2,
   "metadata": {},
   "outputs": [
    {
     "data": {
      "text/plain": [
       "(1203, 16)"
      ]
     },
     "execution_count": 2,
     "metadata": {},
     "output_type": "execute_result"
    }
   ],
   "source": [
    "data = pd.read_excel('DataSet_JPCLett.xlsx')\n",
    "data.shape"
   ]
  },
  {
   "cell_type": "code",
   "execution_count": 3,
   "metadata": {},
   "outputs": [
    {
     "data": {
      "text/html": [
       "<div>\n",
       "<style scoped>\n",
       "    .dataframe tbody tr th:only-of-type {\n",
       "        vertical-align: middle;\n",
       "    }\n",
       "\n",
       "    .dataframe tbody tr th {\n",
       "        vertical-align: top;\n",
       "    }\n",
       "\n",
       "    .dataframe thead th {\n",
       "        text-align: right;\n",
       "    }\n",
       "</style>\n",
       "<table border=\"1\" class=\"dataframe\">\n",
       "  <thead>\n",
       "    <tr style=\"text-align: right;\">\n",
       "      <th></th>\n",
       "      <th>ID No.</th>\n",
       "      <th>Nickname</th>\n",
       "      <th>Ref. No</th>\n",
       "      <th>PCE_max(%)</th>\n",
       "      <th>PCE_ave(%)</th>\n",
       "      <th>Voc (V)</th>\n",
       "      <th>Jsc (mA cm^2)</th>\n",
       "      <th>FF</th>\n",
       "      <th>Mw (kg mol^-1)</th>\n",
       "      <th>Mn (kg mol^-1)</th>\n",
       "      <th>PDI (=Mw/Mn)</th>\n",
       "      <th>Monomer (g mol^-1)</th>\n",
       "      <th>HOMO (eV)</th>\n",
       "      <th>LUMO (eV)</th>\n",
       "      <th>bandgap(eV)</th>\n",
       "      <th>SMILES</th>\n",
       "    </tr>\n",
       "  </thead>\n",
       "  <tbody>\n",
       "    <tr>\n",
       "      <th>0</th>\n",
       "      <td>1</td>\n",
       "      <td>PBTTT-C14</td>\n",
       "      <td>S1</td>\n",
       "      <td>2.34</td>\n",
       "      <td>2.34</td>\n",
       "      <td>0.53</td>\n",
       "      <td>9.37</td>\n",
       "      <td>0.48</td>\n",
       "      <td>46.2</td>\n",
       "      <td>22</td>\n",
       "      <td>2.1</td>\n",
       "      <td>724</td>\n",
       "      <td>5.10</td>\n",
       "      <td>3.10</td>\n",
       "      <td>1.88</td>\n",
       "      <td>CC1=CC(CCCCCCCCCCCCCC)=C(C2=CC3=C(S2)C=C(C4=C(...</td>\n",
       "    </tr>\n",
       "    <tr>\n",
       "      <th>1</th>\n",
       "      <td>2</td>\n",
       "      <td>PCDTBT</td>\n",
       "      <td>S2</td>\n",
       "      <td>3.60</td>\n",
       "      <td>3.60</td>\n",
       "      <td>0.89</td>\n",
       "      <td>6.92</td>\n",
       "      <td>0.63</td>\n",
       "      <td>73.0</td>\n",
       "      <td>37</td>\n",
       "      <td>1.97</td>\n",
       "      <td>731</td>\n",
       "      <td>5.50</td>\n",
       "      <td>3.60</td>\n",
       "      <td>1.88</td>\n",
       "      <td>CC1=CC(N(C(CCCCCCCC)CCCCCCCC)C2=C3C=CC(C4=CC=C...</td>\n",
       "    </tr>\n",
       "    <tr>\n",
       "      <th>2</th>\n",
       "      <td>3</td>\n",
       "      <td>PCPDTBT</td>\n",
       "      <td>S3</td>\n",
       "      <td>5.12</td>\n",
       "      <td>5.12</td>\n",
       "      <td>0.61</td>\n",
       "      <td>15.73</td>\n",
       "      <td>0.53</td>\n",
       "      <td>47.6</td>\n",
       "      <td>26.6</td>\n",
       "      <td>1.79</td>\n",
       "      <td>564</td>\n",
       "      <td>5.30</td>\n",
       "      <td>3.55</td>\n",
       "      <td>1.43</td>\n",
       "      <td>CC1=CC(C(CC(CCCC)CC)(CC(CCCC)CC)C2=C3SC(C4=CC=...</td>\n",
       "    </tr>\n",
       "    <tr>\n",
       "      <th>3</th>\n",
       "      <td>4</td>\n",
       "      <td>PffBT4T-2OD</td>\n",
       "      <td>S4</td>\n",
       "      <td>10.50</td>\n",
       "      <td>10.20</td>\n",
       "      <td>0.77</td>\n",
       "      <td>18.40</td>\n",
       "      <td>0.74</td>\n",
       "      <td>93.7</td>\n",
       "      <td>47.5</td>\n",
       "      <td>1.97</td>\n",
       "      <td>1089</td>\n",
       "      <td>5.34</td>\n",
       "      <td>3.69</td>\n",
       "      <td>1.65</td>\n",
       "      <td>CC1=C(CC(CCCCCCCC)CCCCCCCCCC)C=C(C2=C(F)C(F)=C...</td>\n",
       "    </tr>\n",
       "    <tr>\n",
       "      <th>4</th>\n",
       "      <td>5</td>\n",
       "      <td>PffBT4T-2OD</td>\n",
       "      <td>S4</td>\n",
       "      <td>10.40</td>\n",
       "      <td>10.00</td>\n",
       "      <td>0.77</td>\n",
       "      <td>18.20</td>\n",
       "      <td>0.74</td>\n",
       "      <td>52.9</td>\n",
       "      <td>28.2</td>\n",
       "      <td>1.88</td>\n",
       "      <td>1089</td>\n",
       "      <td>5.20</td>\n",
       "      <td>3.57</td>\n",
       "      <td>1.63</td>\n",
       "      <td>CC1=C(CC(CCCCCCCC)CCCCCCCCCC)C=C(C2=CC=C(C3=CC...</td>\n",
       "    </tr>\n",
       "  </tbody>\n",
       "</table>\n",
       "</div>"
      ],
      "text/plain": [
       "   ID No.     Nickname Ref. No  PCE_max(%)  PCE_ave(%)  Voc (V)  \\\n",
       "0       1    PBTTT-C14      S1        2.34        2.34     0.53   \n",
       "1       2       PCDTBT      S2        3.60        3.60     0.89   \n",
       "2       3      PCPDTBT      S3        5.12        5.12     0.61   \n",
       "3       4  PffBT4T-2OD      S4       10.50       10.20     0.77   \n",
       "4       5  PffBT4T-2OD      S4       10.40       10.00     0.77   \n",
       "\n",
       "   Jsc (mA cm^2)    FF  Mw (kg mol^-1) Mn (kg mol^-1) PDI (=Mw/Mn)  \\\n",
       "0           9.37  0.48            46.2             22          2.1   \n",
       "1           6.92  0.63            73.0             37         1.97   \n",
       "2          15.73  0.53            47.6           26.6         1.79   \n",
       "3          18.40  0.74            93.7           47.5         1.97   \n",
       "4          18.20  0.74            52.9           28.2         1.88   \n",
       "\n",
       "   Monomer (g mol^-1)  HOMO (eV)  LUMO (eV)  bandgap(eV)  \\\n",
       "0                 724       5.10       3.10         1.88   \n",
       "1                 731       5.50       3.60         1.88   \n",
       "2                 564       5.30       3.55         1.43   \n",
       "3                1089       5.34       3.69         1.65   \n",
       "4                1089       5.20       3.57         1.63   \n",
       "\n",
       "                                              SMILES  \n",
       "0  CC1=CC(CCCCCCCCCCCCCC)=C(C2=CC3=C(S2)C=C(C4=C(...  \n",
       "1  CC1=CC(N(C(CCCCCCCC)CCCCCCCC)C2=C3C=CC(C4=CC=C...  \n",
       "2  CC1=CC(C(CC(CCCC)CC)(CC(CCCC)CC)C2=C3SC(C4=CC=...  \n",
       "3  CC1=C(CC(CCCCCCCC)CCCCCCCCCC)C=C(C2=C(F)C(F)=C...  \n",
       "4  CC1=C(CC(CCCCCCCC)CCCCCCCCCC)C=C(C2=CC=C(C3=CC...  "
      ]
     },
     "execution_count": 3,
     "metadata": {},
     "output_type": "execute_result"
    }
   ],
   "source": [
    "data.head()"
   ]
  },
  {
   "cell_type": "code",
   "execution_count": 4,
   "metadata": {},
   "outputs": [
    {
     "name": "stdout",
     "output_type": "stream",
     "text": [
      "(1203,) <class 'numpy.ndarray'>\n",
      "<class 'list'> 1203\n"
     ]
    }
   ],
   "source": [
    "from rdkit import Chem, DataStructs\n",
    "from rdkit.Chem import AllChem\n",
    "\n",
    "#prepressing data\n",
    "x_data = np.array(data.loc[:,'SMILES'])\n",
    "print(x_data.shape, type(x_data))\n",
    "\n",
    "polymers= []\n",
    "for smile in x_data:\n",
    "    m = Chem.MolFromSmiles(smile)\n",
    "    polymers.append(m)\n",
    "    \n",
    "print(type(polymers), len(polymers))"
   ]
  },
  {
   "cell_type": "markdown",
   "metadata": {},
   "source": [
    "## y data processing"
   ]
  },
  {
   "cell_type": "code",
   "execution_count": 5,
   "metadata": {},
   "outputs": [
    {
     "name": "stdout",
     "output_type": "stream",
     "text": [
      "<class 'numpy.ndarray'> (1203,)\n"
     ]
    }
   ],
   "source": [
    "#y_data processing, from the average PCE values\n",
    "y_data = np.array(data.loc[:,'PCE_ave(%)'])\n",
    "y_data_round = np.around(y_data, decimals=2)\n",
    "print(type(y_data_round), y_data_round.shape)"
   ]
  },
  {
   "cell_type": "code",
   "execution_count": null,
   "metadata": {},
   "outputs": [],
   "source": []
  },
  {
   "cell_type": "markdown",
   "metadata": {},
   "source": [
    "### Generate fingerprints: Morgan fingerprint with radius 5\n",
    "### SVM and RF Modelling; apply all the data"
   ]
  },
  {
   "cell_type": "code",
   "execution_count": 6,
   "metadata": {},
   "outputs": [
    {
     "data": {
      "text/plain": [
       "RandomForestRegressor(bootstrap=True, criterion='mse', max_depth=None,\n",
       "           max_features='auto', max_leaf_nodes=None,\n",
       "           min_impurity_decrease=0.0, min_impurity_split=None,\n",
       "           min_samples_leaf=1, min_samples_split=2,\n",
       "           min_weight_fraction_leaf=0.0, n_estimators=500, n_jobs=None,\n",
       "           oob_score=False, random_state=None, verbose=0, warm_start=False)"
      ]
     },
     "execution_count": 6,
     "metadata": {},
     "output_type": "execute_result"
    }
   ],
   "source": [
    "from sklearn.model_selection import train_test_split\n",
    "from sklearn.svm import SVR\n",
    "from sklearn.ensemble import RandomForestRegressor\n",
    "\n",
    "#Generate polymer fingerprints\n",
    "fps = [AllChem.GetMorganFingerprintAsBitVect(p, 5) for p in polymers]\n",
    "    \n",
    "np_fps = []\n",
    "for fp in fps:\n",
    "    arr = np.zeros((1,))  # create a num array to accept the data\n",
    "    DataStructs.ConvertToNumpyArray(fp, arr)\n",
    "    np_fps.append(arr)    # this will change numpy array to list \n",
    "    \n",
    "x_data = np.array(np_fps) # change list to np array\n",
    "   \n",
    "model_svm = SVR(C=31, gamma=0.001)\n",
    "model_svm.fit(x_data, y_data_round)\n",
    "\n",
    "model_RF = RandomForestRegressor(n_estimators=500)\n",
    "model_RF.fit(x_data, y_data_round)"
   ]
  },
  {
   "cell_type": "code",
   "execution_count": null,
   "metadata": {},
   "outputs": [],
   "source": []
  },
  {
   "cell_type": "code",
   "execution_count": 7,
   "metadata": {},
   "outputs": [
    {
     "data": {
      "text/html": [
       "<div>\n",
       "<style scoped>\n",
       "    .dataframe tbody tr th:only-of-type {\n",
       "        vertical-align: middle;\n",
       "    }\n",
       "\n",
       "    .dataframe tbody tr th {\n",
       "        vertical-align: top;\n",
       "    }\n",
       "\n",
       "    .dataframe thead th {\n",
       "        text-align: right;\n",
       "    }\n",
       "</style>\n",
       "<table border=\"1\" class=\"dataframe\">\n",
       "  <thead>\n",
       "    <tr style=\"text-align: right;\">\n",
       "      <th></th>\n",
       "      <th>smiles</th>\n",
       "      <th>confnum</th>\n",
       "      <th>homo</th>\n",
       "      <th>lumo</th>\n",
       "      <th>gap</th>\n",
       "    </tr>\n",
       "  </thead>\n",
       "  <tbody>\n",
       "    <tr>\n",
       "      <th>0</th>\n",
       "      <td>COC(=O)/C(=C/c1cc(C)c(c2ccc(c3sc(c4cc5c(s4)c(O...</td>\n",
       "      <td>0.0</td>\n",
       "      <td>-0.246</td>\n",
       "      <td>-0.011</td>\n",
       "      <td>0.235</td>\n",
       "    </tr>\n",
       "    <tr>\n",
       "      <th>1</th>\n",
       "      <td>Cc1csc(c2ccc(c3cc(C)cs3)c3nsnc23)c1</td>\n",
       "      <td>0.0</td>\n",
       "      <td>-0.259</td>\n",
       "      <td>0.003</td>\n",
       "      <td>0.262</td>\n",
       "    </tr>\n",
       "    <tr>\n",
       "      <th>2</th>\n",
       "      <td>COC(=O)/C(=C/c1cc(C)c(c2cc(C)c(c3ccc(c4sc(c5sc...</td>\n",
       "      <td>0.0</td>\n",
       "      <td>-0.251</td>\n",
       "      <td>-0.017</td>\n",
       "      <td>0.234</td>\n",
       "    </tr>\n",
       "    <tr>\n",
       "      <th>3</th>\n",
       "      <td>C[Si]1(C)c2ccsc2c2sc(c3nc4sc(c5cc6c(s5)c5sc(c7...</td>\n",
       "      <td>0.0</td>\n",
       "      <td>-0.237</td>\n",
       "      <td>0.008</td>\n",
       "      <td>0.245</td>\n",
       "    </tr>\n",
       "    <tr>\n",
       "      <th>4</th>\n",
       "      <td>COc1c2ccsc2c(OC)c2cc(c3sc(c4scc5c4[C@@H]4C=C[C...</td>\n",
       "      <td>0.0</td>\n",
       "      <td>-0.253</td>\n",
       "      <td>0.047</td>\n",
       "      <td>0.300</td>\n",
       "    </tr>\n",
       "  </tbody>\n",
       "</table>\n",
       "</div>"
      ],
      "text/plain": [
       "                                              smiles  confnum   homo   lumo  \\\n",
       "0  COC(=O)/C(=C/c1cc(C)c(c2ccc(c3sc(c4cc5c(s4)c(O...      0.0 -0.246 -0.011   \n",
       "1                Cc1csc(c2ccc(c3cc(C)cs3)c3nsnc23)c1      0.0 -0.259  0.003   \n",
       "2  COC(=O)/C(=C/c1cc(C)c(c2cc(C)c(c3ccc(c4sc(c5sc...      0.0 -0.251 -0.017   \n",
       "3  C[Si]1(C)c2ccsc2c2sc(c3nc4sc(c5cc6c(s5)c5sc(c7...      0.0 -0.237  0.008   \n",
       "4  COc1c2ccsc2c(OC)c2cc(c3sc(c4scc5c4[C@@H]4C=C[C...      0.0 -0.253  0.047   \n",
       "\n",
       "     gap  \n",
       "0  0.235  \n",
       "1  0.262  \n",
       "2  0.234  \n",
       "3  0.245  \n",
       "4  0.300  "
      ]
     },
     "execution_count": 7,
     "metadata": {},
     "output_type": "execute_result"
    }
   ],
   "source": [
    "# Process the data from the Data Science paper\n",
    "# SMILES from SciData\n",
    "df_SciData = pd.read_excel('sdata201686-s2.csv.xlsx')\n",
    "df_SciData.head()"
   ]
  },
  {
   "cell_type": "code",
   "execution_count": 8,
   "metadata": {},
   "outputs": [
    {
     "data": {
      "text/plain": [
       "(317, 5)"
      ]
     },
     "execution_count": 8,
     "metadata": {},
     "output_type": "execute_result"
    }
   ],
   "source": [
    "df_SciData.shape # 316 compounds plus one new structure that we propose"
   ]
  },
  {
   "cell_type": "code",
   "execution_count": 9,
   "metadata": {},
   "outputs": [],
   "source": [
    "#prepressing data\n",
    "x_Scidata = np.array(df_SciData.loc[:,'smiles'])\n",
    "\n",
    "def NewMaterSmile(data):\n",
    "    molecules = []\n",
    "    for smile in data:\n",
    "        m = Chem.MolFromSmiles(smile)\n",
    "        molecules.append(m)\n",
    "    \n",
    "# generate fingerprint: Morgan fingerprint with radius 5\n",
    "    fps_new = [AllChem.GetMorganFingerprintAsBitVect(p, 5) for p in molecules]\n",
    "\n",
    "#convert the RDkit explicit vectors \n",
    "    np_fps = []\n",
    "    for fp in fps_new:\n",
    "        arr = np.zeros((1,))  # create a num array to accept the data\n",
    "        DataStructs.ConvertToNumpyArray(fp, arr)  \n",
    "        np_fps.append(arr)    # this will change numpy array to list\n",
    "    x_data = np.array(np_fps) # change list back to no array\n",
    "    return x_data\n",
    "\n",
    "x_Scidata_Smile = NewMaterSmile(x_Scidata)"
   ]
  },
  {
   "cell_type": "markdown",
   "metadata": {},
   "source": [
    "# Apply the models"
   ]
  },
  {
   "cell_type": "code",
   "execution_count": 10,
   "metadata": {},
   "outputs": [
    {
     "name": "stdout",
     "output_type": "stream",
     "text": [
      "(317,) (317,) (317,)\n"
     ]
    }
   ],
   "source": [
    "prediction_svm = model_svm.predict(x_Scidata_Smile)\n",
    "prediction_RF = model_RF.predict(x_Scidata_Smile)\n",
    "\n",
    "# Average the prediction from the two models\n",
    "prediction_blend = prediction_svm + prediction_RF\n",
    "prediction_blend = prediction_blend/2\n",
    "print(prediction_RF.shape, prediction_svm.shape, prediction_blend.shape)"
   ]
  },
  {
   "cell_type": "code",
   "execution_count": 11,
   "metadata": {},
   "outputs": [
    {
     "data": {
      "text/plain": [
       "<matplotlib.collections.PathCollection at 0x285113745f8>"
      ]
     },
     "execution_count": 11,
     "metadata": {},
     "output_type": "execute_result"
    },
    {
     "data": {
      "image/png": "[encoded data removed]",
      "text/plain": [
       "<Figure size 432x288 with 1 Axes>"
      ]
     },
     "metadata": {},
     "output_type": "display_data"
    }
   ],
   "source": [
    "# Check the predictive results\n",
    "x = np.linspace(0, 318, 317)\n",
    "plt.scatter(x, prediction_blend)"
   ]
  },
  {
   "cell_type": "code",
   "execution_count": 12,
   "metadata": {},
   "outputs": [
    {
     "data": {
      "text/plain": [
       "array([ 28,  39, 304, 194,  15, 199, 316], dtype=int64)"
      ]
     },
     "execution_count": 12,
     "metadata": {},
     "output_type": "execute_result"
    }
   ],
   "source": [
    "# The resutls of the top 7 candidates\n",
    "\n",
    "argsorted = prediction_blend.argsort()\n",
    "argsorted[310:317]"
   ]
  },
  {
   "cell_type": "code",
   "execution_count": 13,
   "metadata": {},
   "outputs": [
    {
     "name": "stdout",
     "output_type": "stream",
     "text": [
      "5.6944639360410525\n"
     ]
    }
   ],
   "source": [
    "# To confirm the results\n",
    "print(prediction_blend[28]) "
   ]
  },
  {
   "cell_type": "code",
   "execution_count": 15,
   "metadata": {},
   "outputs": [
    {
     "data": {
      "text/plain": [
       "array([6.13949201, 5.69446394, 5.84473378, 6.03810334, 7.00673649,\n",
       "       5.95611442, 7.26172149])"
      ]
     },
     "execution_count": 15,
     "metadata": {},
     "output_type": "execute_result"
    }
   ],
   "source": [
    "top7 = prediction_blend[prediction_blend>5.68]\n",
    "top7"
   ]
  },
  {
   "cell_type": "code",
   "execution_count": 16,
   "metadata": {},
   "outputs": [
    {
     "name": "stdout",
     "output_type": "stream",
     "text": [
      "6.139492009200478 5.6944639360410525 5.844733775020877 6.038103342544838 7.006736487024735 5.956114421394325 7.261721487950273\n"
     ]
    }
   ],
   "source": [
    "# confirm the correction of the top 6 candidates\n",
    "print(prediction_blend[15], prediction_blend[28], prediction_blend[39], prediction_blend[194], \n",
    "      prediction_blend[199], prediction_blend[304], prediction_blend[316]) "
   ]
  },
  {
   "cell_type": "code",
   "execution_count": null,
   "metadata": {},
   "outputs": [],
   "source": []
  },
  {
   "cell_type": "markdown",
   "metadata": {},
   "source": [
    "# Change SMILES to Chemical Structures"
   ]
  },
  {
   "cell_type": "code",
   "execution_count": 17,
   "metadata": {},
   "outputs": [
    {
     "name": "stdout",
     "output_type": "stream",
     "text": [
      "['PCE = 6.14', 'PCE = 5.69', 'PCE = 5.84', 'PCE = 6.04', 'PCE = 7.01', 'PCE = 5.96', 'PCE = 7.26']\n"
     ]
    }
   ],
   "source": [
    "from rdkit.Chem import Draw\n",
    "\n",
    "structs = []\n",
    "for n in [15, 28, 39, 194, 199, 304, 316]:\n",
    "    mole = df_SciData['smiles'][n]\n",
    "    structs.append(mole)\n",
    "\n",
    "PCE = []\n",
    "for i in [15, 28, 39, 194, 199, 304, 316]:\n",
    "    Efficiency = prediction_blend[i]\n",
    "    str_PCE = 'PCE = ' + str(Efficiency.round(2))\n",
    "    PCE.append(str_PCE)\n",
    "\n",
    "print(PCE)"
   ]
  },
  {
   "cell_type": "code",
   "execution_count": 18,
   "metadata": {},
   "outputs": [
    {
     "name": "stdout",
     "output_type": "stream",
     "text": [
      "Warning: unable to load font metrics from dir C:\\Anaconda3\\lib\\site-packages\\rdkit\\sping\\PIL\\pilfonts\n"
     ]
    },
    {
     "data": {
      "image/png": "[encoded data removed]",
      "text/plain": [
       "<PIL.Image.Image image mode=RGBA size=1000x500 at 0x28511B0BB70>"
      ]
     },
     "execution_count": 18,
     "metadata": {},
     "output_type": "execute_result"
    }
   ],
   "source": [
    "Draw.MolsToGridImage([Chem.MolFromSmiles(s) for s in structs], molsPerRow=4, subImgSize=(250,250), legends = PCE)"
   ]
  },
  {
   "cell_type": "code",
   "execution_count": null,
   "metadata": {},
   "outputs": [],
   "source": []
  }
 ],
 "metadata": {
  "kernelspec": {
   "display_name": "Python 3",
   "language": "python",
   "name": "python3"
  },
  "language_info": {
   "codemirror_mode": {
    "name": "ipython",
    "version": 3
   },
   "file_extension": ".py",
   "mimetype": "text/x-python",
   "name": "python",
   "nbconvert_exporter": "python",
   "pygments_lexer": "ipython3",
   "version": "3.6.6"
  }
 },
 "nbformat": 4,
 "nbformat_minor": 2
}
